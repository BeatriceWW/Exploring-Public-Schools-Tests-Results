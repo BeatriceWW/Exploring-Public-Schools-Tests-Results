{
 "cells": [
  {
   "cell_type": "markdown",
   "id": "fe0ea788-58dd-459e-8976-fafdb5c05c6d",
   "metadata": {},
   "source": [
    "Every year, American high school students take SATs, which are standardized tests intended to measure literacy, numeracy, and writing skills. There are three sections - reading, math, and writing, each with a **maximum score of 800 points**. These tests are extremely important for students and colleges, as they play a pivotal role in the admissions process.\n",
    "\n",
    "Analyzing the performance of schools is important for a variety of stakeholders, including policy and education professionals, researchers, government, and even parents considering which school their children should attend. \n",
    "\n",
    "The dataset is `schools.csv` previewed below\n",
    "\n",
    "Project task: Answer the following three key questions about New York City (NYC) public school SAT performance.\n",
    "\n",
    " 1. Find schools with the best math scores \n",
    " 2. Identify the top 10 performing schools \n",
    " 3. Find out which borough has the most significant standard deviation in SAT performance"
   ]
  },
  {
   "cell_type": "code",
   "execution_count": 39,
   "id": "d0eb4f16-5a99-460d-a5ba-706b7ef0bbe7",
   "metadata": {
    "executionCancelledAt": null,
    "executionTime": 48,
    "id": "bA5ajAmk7XH6",
    "lastExecutedAt": 1727864502075,
    "lastExecutedByKernel": "34876872-3779-48a3-ba45-849bcbb7e6bb",
    "lastScheduledRunId": null,
    "lastSuccessfullyExecutedCode": "# Re-run this cell \nimport pandas as pd\n\n# Read in the data\nschools = pd.read_csv(\"schools.csv\")\n\n# Preview the data\nschools.head()\n\n# Start coding here...\n# Add as many cells as you like...",
    "outputsMetadata": {
     "0": {
      "height": 241,
      "type": "dataFrame"
     }
    }
   },
   "outputs": [
    {
     "data": {
      "application/com.datacamp.data-table.v2+json": {
       "table": {
        "data": {
         "average_math": [
          657,
          395,
          418,
          613,
          410
         ],
         "average_reading": [
          601,
          411,
          428,
          453,
          406
         ],
         "average_writing": [
          601,
          387,
          415,
          463,
          381
         ],
         "borough": [
          "Manhattan",
          "Manhattan",
          "Manhattan",
          "Manhattan",
          "Manhattan"
         ],
         "building_code": [
          "M022",
          "M445",
          "M445",
          "M445",
          "M056"
         ],
         "index": [
          0,
          1,
          2,
          3,
          4
         ],
         "percent_tested": [
          null,
          78.9,
          65.1,
          95.9,
          59.7
         ],
         "school_name": [
          "New Explorations into Science, Technology and Math High School",
          "Essex Street Academy",
          "Lower Manhattan Arts Academy",
          "High School for Dual Language and Asian Studies",
          "Henry Street School for International Studies"
         ]
        },
        "schema": {
         "fields": [
          {
           "name": "index",
           "type": "integer"
          },
          {
           "name": "school_name",
           "type": "string"
          },
          {
           "name": "borough",
           "type": "string"
          },
          {
           "name": "building_code",
           "type": "string"
          },
          {
           "name": "average_math",
           "type": "integer"
          },
          {
           "name": "average_reading",
           "type": "integer"
          },
          {
           "name": "average_writing",
           "type": "integer"
          },
          {
           "name": "percent_tested",
           "type": "number"
          }
         ],
         "pandas_version": "1.4.0",
         "primaryKey": [
          "index"
         ]
        }
       },
       "total_rows": 5,
       "truncation_type": null
      },
      "text/html": [
       "<div>\n",
       "<style scoped>\n",
       "    .dataframe tbody tr th:only-of-type {\n",
       "        vertical-align: middle;\n",
       "    }\n",
       "\n",
       "    .dataframe tbody tr th {\n",
       "        vertical-align: top;\n",
       "    }\n",
       "\n",
       "    .dataframe thead th {\n",
       "        text-align: right;\n",
       "    }\n",
       "</style>\n",
       "<table border=\"1\" class=\"dataframe\">\n",
       "  <thead>\n",
       "    <tr style=\"text-align: right;\">\n",
       "      <th></th>\n",
       "      <th>school_name</th>\n",
       "      <th>borough</th>\n",
       "      <th>building_code</th>\n",
       "      <th>average_math</th>\n",
       "      <th>average_reading</th>\n",
       "      <th>average_writing</th>\n",
       "      <th>percent_tested</th>\n",
       "    </tr>\n",
       "  </thead>\n",
       "  <tbody>\n",
       "    <tr>\n",
       "      <th>0</th>\n",
       "      <td>New Explorations into Science, Technology and ...</td>\n",
       "      <td>Manhattan</td>\n",
       "      <td>M022</td>\n",
       "      <td>657</td>\n",
       "      <td>601</td>\n",
       "      <td>601</td>\n",
       "      <td>NaN</td>\n",
       "    </tr>\n",
       "    <tr>\n",
       "      <th>1</th>\n",
       "      <td>Essex Street Academy</td>\n",
       "      <td>Manhattan</td>\n",
       "      <td>M445</td>\n",
       "      <td>395</td>\n",
       "      <td>411</td>\n",
       "      <td>387</td>\n",
       "      <td>78.9</td>\n",
       "    </tr>\n",
       "    <tr>\n",
       "      <th>2</th>\n",
       "      <td>Lower Manhattan Arts Academy</td>\n",
       "      <td>Manhattan</td>\n",
       "      <td>M445</td>\n",
       "      <td>418</td>\n",
       "      <td>428</td>\n",
       "      <td>415</td>\n",
       "      <td>65.1</td>\n",
       "    </tr>\n",
       "    <tr>\n",
       "      <th>3</th>\n",
       "      <td>High School for Dual Language and Asian Studies</td>\n",
       "      <td>Manhattan</td>\n",
       "      <td>M445</td>\n",
       "      <td>613</td>\n",
       "      <td>453</td>\n",
       "      <td>463</td>\n",
       "      <td>95.9</td>\n",
       "    </tr>\n",
       "    <tr>\n",
       "      <th>4</th>\n",
       "      <td>Henry Street School for International Studies</td>\n",
       "      <td>Manhattan</td>\n",
       "      <td>M056</td>\n",
       "      <td>410</td>\n",
       "      <td>406</td>\n",
       "      <td>381</td>\n",
       "      <td>59.7</td>\n",
       "    </tr>\n",
       "  </tbody>\n",
       "</table>\n",
       "</div>"
      ],
      "text/plain": [
       "                                         school_name  ... percent_tested\n",
       "0  New Explorations into Science, Technology and ...  ...            NaN\n",
       "1                               Essex Street Academy  ...           78.9\n",
       "2                       Lower Manhattan Arts Academy  ...           65.1\n",
       "3    High School for Dual Language and Asian Studies  ...           95.9\n",
       "4      Henry Street School for International Studies  ...           59.7\n",
       "\n",
       "[5 rows x 7 columns]"
      ]
     },
     "execution_count": 39,
     "metadata": {},
     "output_type": "execute_result"
    }
   ],
   "source": [
    "# Import pandas library \n",
    "import pandas as pd\n",
    "\n",
    "# Read in the data\n",
    "schools = pd.read_csv(\"schools.csv\")\n",
    "\n",
    "# Preview the data\n",
    "schools.head()\n"
   ]
  },
  {
   "cell_type": "code",
   "execution_count": 40,
   "id": "dbca3601-0a1f-4246-b87e-e56774e1d2d4",
   "metadata": {
    "executionCancelledAt": null,
    "executionTime": 60,
    "lastExecutedAt": 1727864502135,
    "lastExecutedByKernel": "34876872-3779-48a3-ba45-849bcbb7e6bb",
    "lastScheduledRunId": null,
    "lastSuccessfullyExecutedCode": "# Q1. Find NYC schools have the best math results\n\nbest_math_result = 640\n\n# Create a list of boroughs in NYC \nnyc_boroughs = ['Manhattan', 'Brooklyn', 'Queens', 'Bronx', 'Staten Island']\n\n# Find schools in NYC where ave math > = 640 and sort by descending order \nbest_math_schools  = schools[(schools['borough'].isin(nyc_boroughs)) & (schools['average_math'] >= 640)] [['school_name', 'average_math']].sort_values(by='average_math', ascending = False )\n\nbest_math_schools ",
    "outputsMetadata": {
     "0": {
      "height": 362,
      "type": "dataFrame"
     }
    }
   },
   "outputs": [
    {
     "data": {
      "application/com.datacamp.data-table.v2+json": {
       "table": {
        "data": {
         "average_math": [
          754,
          714,
          711,
          701,
          683,
          682,
          680,
          669,
          657,
          641
         ],
         "index": [
          88,
          170,
          93,
          365,
          68,
          280,
          333,
          174,
          0,
          45
         ],
         "school_name": [
          "Stuyvesant High School",
          "Bronx High School of Science",
          "Staten Island Technical High School",
          "Queens High School for the Sciences at York College",
          "High School for Mathematics, Science, and Engineering at City College",
          "Brooklyn Technical High School",
          "Townsend Harris High School",
          "High School of American Studies at Lehman College",
          "New Explorations into Science, Technology and Math High School",
          "Eleanor Roosevelt High School"
         ]
        },
        "schema": {
         "fields": [
          {
           "name": "index",
           "type": "integer"
          },
          {
           "name": "school_name",
           "type": "string"
          },
          {
           "name": "average_math",
           "type": "integer"
          }
         ],
         "pandas_version": "1.4.0",
         "primaryKey": [
          "index"
         ]
        }
       },
       "total_rows": 10,
       "truncation_type": null
      },
      "text/html": [
       "<div>\n",
       "<style scoped>\n",
       "    .dataframe tbody tr th:only-of-type {\n",
       "        vertical-align: middle;\n",
       "    }\n",
       "\n",
       "    .dataframe tbody tr th {\n",
       "        vertical-align: top;\n",
       "    }\n",
       "\n",
       "    .dataframe thead th {\n",
       "        text-align: right;\n",
       "    }\n",
       "</style>\n",
       "<table border=\"1\" class=\"dataframe\">\n",
       "  <thead>\n",
       "    <tr style=\"text-align: right;\">\n",
       "      <th></th>\n",
       "      <th>school_name</th>\n",
       "      <th>average_math</th>\n",
       "    </tr>\n",
       "  </thead>\n",
       "  <tbody>\n",
       "    <tr>\n",
       "      <th>88</th>\n",
       "      <td>Stuyvesant High School</td>\n",
       "      <td>754</td>\n",
       "    </tr>\n",
       "    <tr>\n",
       "      <th>170</th>\n",
       "      <td>Bronx High School of Science</td>\n",
       "      <td>714</td>\n",
       "    </tr>\n",
       "    <tr>\n",
       "      <th>93</th>\n",
       "      <td>Staten Island Technical High School</td>\n",
       "      <td>711</td>\n",
       "    </tr>\n",
       "    <tr>\n",
       "      <th>365</th>\n",
       "      <td>Queens High School for the Sciences at York Co...</td>\n",
       "      <td>701</td>\n",
       "    </tr>\n",
       "    <tr>\n",
       "      <th>68</th>\n",
       "      <td>High School for Mathematics, Science, and Engi...</td>\n",
       "      <td>683</td>\n",
       "    </tr>\n",
       "    <tr>\n",
       "      <th>280</th>\n",
       "      <td>Brooklyn Technical High School</td>\n",
       "      <td>682</td>\n",
       "    </tr>\n",
       "    <tr>\n",
       "      <th>333</th>\n",
       "      <td>Townsend Harris High School</td>\n",
       "      <td>680</td>\n",
       "    </tr>\n",
       "    <tr>\n",
       "      <th>174</th>\n",
       "      <td>High School of American Studies at Lehman College</td>\n",
       "      <td>669</td>\n",
       "    </tr>\n",
       "    <tr>\n",
       "      <th>0</th>\n",
       "      <td>New Explorations into Science, Technology and ...</td>\n",
       "      <td>657</td>\n",
       "    </tr>\n",
       "    <tr>\n",
       "      <th>45</th>\n",
       "      <td>Eleanor Roosevelt High School</td>\n",
       "      <td>641</td>\n",
       "    </tr>\n",
       "  </tbody>\n",
       "</table>\n",
       "</div>"
      ],
      "text/plain": [
       "                                           school_name  average_math\n",
       "88                              Stuyvesant High School           754\n",
       "170                       Bronx High School of Science           714\n",
       "93                 Staten Island Technical High School           711\n",
       "365  Queens High School for the Sciences at York Co...           701\n",
       "68   High School for Mathematics, Science, and Engi...           683\n",
       "280                     Brooklyn Technical High School           682\n",
       "333                        Townsend Harris High School           680\n",
       "174  High School of American Studies at Lehman College           669\n",
       "0    New Explorations into Science, Technology and ...           657\n",
       "45                       Eleanor Roosevelt High School           641"
      ]
     },
     "execution_count": 40,
     "metadata": {},
     "output_type": "execute_result"
    }
   ],
   "source": [
    "# Q1. Find NYC schools have the best math results\n",
    "# The best math results are at least 80% of the *maximum possible score of 800* for math\n",
    "\n",
    "best_math_result = (800 * 80) / 100\n",
    "\n",
    "# Create a list of boroughs in NYC \n",
    "nyc_boroughs = ['Manhattan', 'Brooklyn', 'Queens', 'Bronx', 'Staten Island']\n",
    "\n",
    "# Find schools in NYC where ave math > = 640 and sort by descending order \n",
    "best_math_schools  = schools[(schools['borough'].isin(nyc_boroughs)) & (schools['average_math'] >= 640)] [['school_name', 'average_math']].sort_values(by='average_math', ascending = False )\n",
    "\n",
    "best_math_schools "
   ]
  },
  {
   "cell_type": "code",
   "execution_count": 41,
   "id": "1ba82a37-0222-4442-9ceb-c2a662a8b33f",
   "metadata": {
    "executionCancelledAt": null,
    "executionTime": 52,
    "lastExecutedAt": 1727864502187,
    "lastExecutedByKernel": "34876872-3779-48a3-ba45-849bcbb7e6bb",
    "lastScheduledRunId": null,
    "lastSuccessfullyExecutedCode": "#Q2. The top 10 performing schools based on the combined SAT scores\n\nschools['total_SAT'] = schools['average_math'] + schools['average_reading'] + schools['average_writing']\n\ntop_10_schools = schools.sort_values(by ='total_SAT', ascending= False).head(10) [['school_name', 'total_SAT']]\ntop_10_schools",
    "outputsMetadata": {
     "0": {
      "height": 362,
      "type": "dataFrame"
     }
    }
   },
   "outputs": [
    {
     "data": {
      "application/com.datacamp.data-table.v2+json": {
       "table": {
        "data": {
         "index": [
          88,
          170,
          93,
          174,
          333,
          365,
          5,
          280,
          45,
          68
         ],
         "school_name": [
          "Stuyvesant High School",
          "Bronx High School of Science",
          "Staten Island Technical High School",
          "High School of American Studies at Lehman College",
          "Townsend Harris High School",
          "Queens High School for the Sciences at York College",
          "Bard High School Early College",
          "Brooklyn Technical High School",
          "Eleanor Roosevelt High School",
          "High School for Mathematics, Science, and Engineering at City College"
         ],
         "total_SAT": [
          2144,
          2041,
          2041,
          2013,
          1981,
          1947,
          1914,
          1896,
          1889,
          1889
         ]
        },
        "schema": {
         "fields": [
          {
           "name": "index",
           "type": "integer"
          },
          {
           "name": "school_name",
           "type": "string"
          },
          {
           "name": "total_SAT",
           "type": "integer"
          }
         ],
         "pandas_version": "1.4.0",
         "primaryKey": [
          "index"
         ]
        }
       },
       "total_rows": 10,
       "truncation_type": null
      },
      "text/html": [
       "<div>\n",
       "<style scoped>\n",
       "    .dataframe tbody tr th:only-of-type {\n",
       "        vertical-align: middle;\n",
       "    }\n",
       "\n",
       "    .dataframe tbody tr th {\n",
       "        vertical-align: top;\n",
       "    }\n",
       "\n",
       "    .dataframe thead th {\n",
       "        text-align: right;\n",
       "    }\n",
       "</style>\n",
       "<table border=\"1\" class=\"dataframe\">\n",
       "  <thead>\n",
       "    <tr style=\"text-align: right;\">\n",
       "      <th></th>\n",
       "      <th>school_name</th>\n",
       "      <th>total_SAT</th>\n",
       "    </tr>\n",
       "  </thead>\n",
       "  <tbody>\n",
       "    <tr>\n",
       "      <th>88</th>\n",
       "      <td>Stuyvesant High School</td>\n",
       "      <td>2144</td>\n",
       "    </tr>\n",
       "    <tr>\n",
       "      <th>170</th>\n",
       "      <td>Bronx High School of Science</td>\n",
       "      <td>2041</td>\n",
       "    </tr>\n",
       "    <tr>\n",
       "      <th>93</th>\n",
       "      <td>Staten Island Technical High School</td>\n",
       "      <td>2041</td>\n",
       "    </tr>\n",
       "    <tr>\n",
       "      <th>174</th>\n",
       "      <td>High School of American Studies at Lehman College</td>\n",
       "      <td>2013</td>\n",
       "    </tr>\n",
       "    <tr>\n",
       "      <th>333</th>\n",
       "      <td>Townsend Harris High School</td>\n",
       "      <td>1981</td>\n",
       "    </tr>\n",
       "    <tr>\n",
       "      <th>365</th>\n",
       "      <td>Queens High School for the Sciences at York Co...</td>\n",
       "      <td>1947</td>\n",
       "    </tr>\n",
       "    <tr>\n",
       "      <th>5</th>\n",
       "      <td>Bard High School Early College</td>\n",
       "      <td>1914</td>\n",
       "    </tr>\n",
       "    <tr>\n",
       "      <th>280</th>\n",
       "      <td>Brooklyn Technical High School</td>\n",
       "      <td>1896</td>\n",
       "    </tr>\n",
       "    <tr>\n",
       "      <th>45</th>\n",
       "      <td>Eleanor Roosevelt High School</td>\n",
       "      <td>1889</td>\n",
       "    </tr>\n",
       "    <tr>\n",
       "      <th>68</th>\n",
       "      <td>High School for Mathematics, Science, and Engi...</td>\n",
       "      <td>1889</td>\n",
       "    </tr>\n",
       "  </tbody>\n",
       "</table>\n",
       "</div>"
      ],
      "text/plain": [
       "                                           school_name  total_SAT\n",
       "88                              Stuyvesant High School       2144\n",
       "170                       Bronx High School of Science       2041\n",
       "93                 Staten Island Technical High School       2041\n",
       "174  High School of American Studies at Lehman College       2013\n",
       "333                        Townsend Harris High School       1981\n",
       "365  Queens High School for the Sciences at York Co...       1947\n",
       "5                       Bard High School Early College       1914\n",
       "280                     Brooklyn Technical High School       1896\n",
       "45                       Eleanor Roosevelt High School       1889\n",
       "68   High School for Mathematics, Science, and Engi...       1889"
      ]
     },
     "execution_count": 41,
     "metadata": {},
     "output_type": "execute_result"
    }
   ],
   "source": [
    "#Q2. The top 10 performing schools based on the combined SAT scores\n",
    "\n",
    "schools['total_SAT'] = schools['average_math'] + schools['average_reading'] + schools['average_writing']\n",
    "\n",
    "top_10_schools = schools.sort_values(by ='total_SAT', ascending= False).head(10) [['school_name', 'total_SAT']]\n",
    "top_10_schools"
   ]
  },
  {
   "cell_type": "code",
   "execution_count": 42,
   "id": "f1a884fb-2c4a-4da0-b131-333d29834bba",
   "metadata": {
    "executionCancelledAt": null,
    "executionTime": 68,
    "lastExecutedAt": 1727864502255,
    "lastExecutedByKernel": "34876872-3779-48a3-ba45-849bcbb7e6bb",
    "lastScheduledRunId": null,
    "lastSuccessfullyExecutedCode": "#Q3. Which single borough has the largest standard deviation in the combined SAT score? \n\nnyc_boroughs = ['Manhattan', 'Brooklyn', 'Queens', 'Bronx', 'Staten Island']\n\n# Create a list to hold the results\nresults = []\n\n# Loop through each NYC borough to calculate statistics\nfor borough in nyc_boroughs:\n    # Filter the DataFrame for the current borough\n    borough_data = schools[schools['borough'] == borough]\n    \n    # Check if there are any schools in the borough\n    if borough_data.empty:\n        continue  # Skip to the next borough if no schools are found\n    \n    # Calculate statistics\n    num_schools = borough_data['school_name'].count()\n    average_SAT = borough_data['total_SAT'].mean()\n    std_SAT = borough_data['total_SAT'].std()\n    \n    # Append results to the list\n    results.append({\n        'borough': borough,\n        'num_schools': num_schools,\n        'average_SAT': round(average_SAT, 2),\n        'std_SAT': round(std_SAT, 2)\n    })\n\n# Create a DataFrame from the results\nborough_stats = pd.DataFrame(results)\n\n# Find the borough with the largest standard deviation\nlargest_std_dev_borough = borough_stats.loc[borough_stats['std_SAT'].idxmax()]\n\n# Create a DataFrame with the required information\nlargest_std_dev = pd.DataFrame({\n    'borough': [largest_std_dev_borough['borough']],\n    'num_schools': [largest_std_dev_borough['num_schools']],\n    'average_SAT': [largest_std_dev_borough['average_SAT']],\n    'std_SAT': [largest_std_dev_borough['std_SAT']]\n})\n\n# Display the result\nlargest_std_dev",
    "outputsMetadata": {
     "0": {
      "height": 129,
      "type": "dataFrame"
     }
    }
   },
   "outputs": [
    {
     "data": {
      "application/com.datacamp.data-table.v2+json": {
       "table": {
        "data": {
         "average_SAT": [
          1340.13
         ],
         "borough": [
          "Manhattan"
         ],
         "index": [
          0
         ],
         "num_schools": [
          89
         ],
         "std_SAT": [
          230.29
         ]
        },
        "schema": {
         "fields": [
          {
           "name": "index",
           "type": "integer"
          },
          {
           "name": "borough",
           "type": "string"
          },
          {
           "name": "num_schools",
           "type": "integer"
          },
          {
           "name": "average_SAT",
           "type": "number"
          },
          {
           "name": "std_SAT",
           "type": "number"
          }
         ],
         "pandas_version": "1.4.0",
         "primaryKey": [
          "index"
         ]
        }
       },
       "total_rows": 1,
       "truncation_type": null
      },
      "text/html": [
       "<div>\n",
       "<style scoped>\n",
       "    .dataframe tbody tr th:only-of-type {\n",
       "        vertical-align: middle;\n",
       "    }\n",
       "\n",
       "    .dataframe tbody tr th {\n",
       "        vertical-align: top;\n",
       "    }\n",
       "\n",
       "    .dataframe thead th {\n",
       "        text-align: right;\n",
       "    }\n",
       "</style>\n",
       "<table border=\"1\" class=\"dataframe\">\n",
       "  <thead>\n",
       "    <tr style=\"text-align: right;\">\n",
       "      <th></th>\n",
       "      <th>borough</th>\n",
       "      <th>num_schools</th>\n",
       "      <th>average_SAT</th>\n",
       "      <th>std_SAT</th>\n",
       "    </tr>\n",
       "  </thead>\n",
       "  <tbody>\n",
       "    <tr>\n",
       "      <th>0</th>\n",
       "      <td>Manhattan</td>\n",
       "      <td>89</td>\n",
       "      <td>1340.13</td>\n",
       "      <td>230.29</td>\n",
       "    </tr>\n",
       "  </tbody>\n",
       "</table>\n",
       "</div>"
      ],
      "text/plain": [
       "     borough  num_schools  average_SAT  std_SAT\n",
       "0  Manhattan           89      1340.13   230.29"
      ]
     },
     "execution_count": 42,
     "metadata": {},
     "output_type": "execute_result"
    }
   ],
   "source": [
    "#Q3. Which single borough has the largest standard deviation in the combined SAT score? \n",
    "\n",
    "nyc_boroughs = ['Manhattan', 'Brooklyn', 'Queens', 'Bronx', 'Staten Island']\n",
    "\n",
    "# Create a list to hold the results\n",
    "results = []\n",
    "\n",
    "# Loop through each NYC borough to calculate statistics\n",
    "for borough in nyc_boroughs:\n",
    "    # Filter the DataFrame for the current borough\n",
    "    borough_data = schools[schools['borough'] == borough]\n",
    "    \n",
    "    # Check if there are any schools in the borough\n",
    "    if borough_data.empty:\n",
    "        continue  # Skip to the next borough if no schools are found\n",
    "    \n",
    "    # Calculate statistics\n",
    "    num_schools = borough_data['school_name'].count()\n",
    "    average_SAT = borough_data['total_SAT'].mean()\n",
    "    std_SAT = borough_data['total_SAT'].std()\n",
    "    \n",
    "    # Append results to the list\n",
    "    results.append({\n",
    "        'borough': borough,\n",
    "        'num_schools': num_schools,\n",
    "        'average_SAT': round(average_SAT, 2),\n",
    "        'std_SAT': round(std_SAT, 2)\n",
    "    })\n",
    "\n",
    "# Create a DataFrame from the results\n",
    "borough_stats = pd.DataFrame(results)\n",
    "\n",
    "# Find the borough with the largest standard deviation\n",
    "largest_std_dev_borough = borough_stats.loc[borough_stats['std_SAT'].idxmax()]\n",
    "\n",
    "# Create a DataFrame with the required information\n",
    "largest_std_dev = pd.DataFrame({\n",
    "    'borough': [largest_std_dev_borough['borough']],\n",
    "    'num_schools': [largest_std_dev_borough['num_schools']],\n",
    "    'average_SAT': [largest_std_dev_borough['average_SAT']],\n",
    "    'std_SAT': [largest_std_dev_borough['std_SAT']]\n",
    "})\n",
    "\n",
    "# Display the result\n",
    "largest_std_dev"
   ]
  }
 ],
 "metadata": {
  "editor": "DataLab",
  "kernelspec": {
   "display_name": "Python 3 (ipykernel)",
   "language": "python",
   "name": "python3"
  },
  "language_info": {
   "codemirror_mode": {
    "name": "ipython",
    "version": 3
   },
   "file_extension": ".py",
   "mimetype": "text/x-python",
   "name": "python",
   "nbconvert_exporter": "python",
   "pygments_lexer": "ipython3",
   "version": "3.11.3"
  }
 },
 "nbformat": 4,
 "nbformat_minor": 5
}
